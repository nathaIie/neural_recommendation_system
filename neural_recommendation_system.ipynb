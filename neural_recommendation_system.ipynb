{
 "cells": [
  {
   "cell_type": "code",
   "execution_count": 23,
   "metadata": {},
   "outputs": [],
   "source": [
    "import os\n",
    "import numpy as np\n",
    "import pandas as pd\n",
    "import collections\n",
    "\n",
    "import seaborn as sns\n",
    "import plotly.express as px \n",
    "import matplotlib.pyplot as plt\n",
    "import scipy.sparse as sp\n",
    "import random\n",
    "\n",
    "import tensorflow as tf\n",
    "from tensorflow.keras.models import Model, Sequential, load_model, save_model\n",
    "from tensorflow.keras.layers import Input, Embedding, Flatten, Dot, Dense, Concatenate, Reshape, Add, Activation, Lambda, Dropout, Multiply\n",
    "from tensorflow.keras import initializers\n",
    "from tensorflow.keras.optimizers import Adam, SGD\n",
    "from keras.regularizers import l2\n",
    "from sklearn.model_selection import train_test_split\n",
    "\n",
    "import warnings\n",
    "warnings.filterwarnings('ignore')"
   ]
  },
  {
   "cell_type": "markdown",
   "metadata": {},
   "source": [
    "    DATA EXPLORATION"
   ]
  },
  {
   "cell_type": "code",
   "execution_count": 11,
   "metadata": {},
   "outputs": [],
   "source": [
    "data = pd.read_csv(\"C:/Users/nataa/OneDrive/Pulpit/spoti/spotify/prepared_spotify_data.csv\", on_bad_lines = 'skip')\n",
    "\n",
    "data.columns = data.columns.str.replace('\"', '')\n",
    "data.columns = data.columns.str.replace(' ', '')"
   ]
  },
  {
   "cell_type": "markdown",
   "metadata": {},
   "source": [
    "The original dataset is quite large - it consists of 12 891 680 rows. First of all, let's check how many users and artists are in the dataset."
   ]
  },
  {
   "cell_type": "code",
   "execution_count": 12,
   "metadata": {},
   "outputs": [
    {
     "name": "stdout",
     "output_type": "stream",
     "text": [
      "Number of users: 15918 \n",
      "Number of artists: 289779\n"
     ]
    }
   ],
   "source": [
    "usersCount = len(pd.unique(data['user_id']))\n",
    "artistsCount = len(pd.unique(data['artistname']))\n",
    "print(\"Number of users:\", usersCount, \"\\nNumber of artists:\", artistsCount)"
   ]
  },
  {
   "cell_type": "markdown",
   "metadata": {},
   "source": [
    "Then I check the artists most frequently appearing in users' playlists along with their frequency of appearance."
   ]
  },
  {
   "cell_type": "code",
   "execution_count": 13,
   "metadata": {},
   "outputs": [
    {
     "data": {
      "image/png": "[encoded data removed]",
      "text/plain": [
       "<Figure size 576x288 with 1 Axes>"
      ]
     },
     "metadata": {},
     "output_type": "display_data"
    }
   ],
   "source": [
    "artistsFreq = data['artistname'].value_counts()\n",
    "artistsFreq = pd.DataFrame(artistsFreq).reset_index()\n",
    "artistsFreq = artistsFreq.head(15)\n",
    "artistsFreq.rename(columns = {'index':'Artist', 'artistname':'Frequency'}, \n",
    "                   inplace = True)\n",
    "\n",
    "artist = artistsFreq['Artist']\n",
    "frequency = artistsFreq['Frequency']\n",
    "plt.style.use('seaborn')\n",
    "plt.rcParams.update({'figure.autolayout': True})\n",
    "bPlot, ax = plt.subplots(figsize = (8, 4))\n",
    "bars = ax.barh(artist, frequency, color = '#56687C')\n",
    "ax.bar_label(bars, label_type = 'center', color = '#EFF0F0', \n",
    "             fontsize = 7.5, fontweight = 'bold')\n",
    "ax.set(title = 'Artists with the highest frequency')\n",
    "ax.invert_yaxis()\n",
    "plt.show()"
   ]
  },
  {
   "cell_type": "markdown",
   "metadata": {},
   "source": [
    "In the last step, let's check how many users have less than 20 artists in playlists, and also - how many artists appear in the dataset less than 50 times."
   ]
  },
  {
   "cell_type": "code",
   "execution_count": 14,
   "metadata": {},
   "outputs": [
    {
     "name": "stdout",
     "output_type": "stream",
     "text": [
      "Number of users with less than 20 artists in playlists: 1615\n"
     ]
    }
   ],
   "source": [
    "usersFreq = data['user_id'].value_counts()\n",
    "usersFreq = pd.DataFrame(usersFreq).reset_index()\n",
    "usersFreq.rename(columns = {'index':'User_id', 'user_id':'Frequency'}, inplace = True)\n",
    "frequency = usersFreq['Frequency']\n",
    "usersCount = frequency[frequency < 20].count()\n",
    "\n",
    "print(\"Number of users with less than 20 artists in playlists:\", usersCount)"
   ]
  },
  {
   "cell_type": "code",
   "execution_count": 15,
   "metadata": {},
   "outputs": [
    {
     "name": "stdout",
     "output_type": "stream",
     "text": [
      "Number of artists who appear less than 100 times: 275533\n"
     ]
    }
   ],
   "source": [
    "artistsFreq = data['artistname'].value_counts()\n",
    "artistsFreq = pd.DataFrame(artistsFreq).reset_index()\n",
    "artistsFreq.rename(columns = {'index':'Artist', 'artistname':'Frequency'}, inplace = True)\n",
    "frequency = artistsFreq['Frequency']\n",
    "\n",
    "artistsCount = frequency[frequency < 100].count()\n",
    "\n",
    "print(\"Number of artists who appear less than 100 times:\", artistsCount)"
   ]
  },
  {
   "cell_type": "markdown",
   "metadata": {},
   "source": [
    "    DATA PREPARATION AND MAKING AN INSTANCE OF THE MODEL"
   ]
  },
  {
   "cell_type": "markdown",
   "metadata": {},
   "source": [
    "After I'd changed columns' names, I decided to only keep artists with frequency of 100 or more, and users who have at least 20 artists in their playlists to lessen the impact of cold start problem. Cold start problem is also known as the lack of information problem. When the new user enter in the system, we don’t have sufficient information of user's profile and his/her preference for particular artists."
   ]
  },
  {
   "cell_type": "code",
   "execution_count": 16,
   "metadata": {},
   "outputs": [],
   "source": [
    "data.rename(columns = {'user_id':'user_id', 'artistname':'artist_name', \n",
    "                       'trackname':'track_name', 'playlistname':'playlist_name'}, \n",
    "                       inplace = True)"
   ]
  },
  {
   "cell_type": "code",
   "execution_count": 17,
   "metadata": {},
   "outputs": [],
   "source": [
    "data = data.groupby('artist_name').filter(lambda x : len(x) >= 100)\n",
    "data = data.groupby('user_id').filter(lambda x : len(x) >= 20)"
   ]
  },
  {
   "cell_type": "markdown",
   "metadata": {},
   "source": [
    "I randomly select 50% of the rows."
   ]
  },
  {
   "cell_type": "code",
   "execution_count": 18,
   "metadata": {},
   "outputs": [],
   "source": [
    "data = data.sample(frac = 0.05)"
   ]
  },
  {
   "cell_type": "code",
   "execution_count": 10,
   "metadata": {},
   "outputs": [
    {
     "name": "stdout",
     "output_type": "stream",
     "text": [
      "(532595, 4)\n"
     ]
    }
   ],
   "source": [
    "print(data.shape)"
   ]
  },
  {
   "cell_type": "markdown",
   "metadata": {},
   "source": [
    "In the next step I turn artists into their unique cat codes so I can get a 0-N index for artists."
   ]
  },
  {
   "cell_type": "code",
   "execution_count": 19,
   "metadata": {},
   "outputs": [
    {
     "name": "stdout",
     "output_type": "stream",
     "text": [
      "14232\n",
      "         user_id   artist_name  \\\n",
      "57747         69          Muse   \n",
      "7151503     8682     Girl Talk   \n",
      "4780270     6137  Bessie Smith   \n",
      "6887984     8325      Bee Gees   \n",
      "2161343     2907    Pink Floyd   \n",
      "\n",
      "                                             track_name  \\\n",
      "57747                                Stockholm Syndrome   \n",
      "7151503                                     Give And Go   \n",
      "4780270  Jazzbo Brown from Memphis Town - 78rpm Version   \n",
      "6887984        Stayin' Alive (Remastered Album Version)   \n",
      "2161343      Astronomy Domine - 2011 Remastered Version   \n",
      "\n",
      "                                             playlist_name  artistindex  \n",
      "57747    június 5. 2015. / Rock in Vienna - Festival Da...         8579  \n",
      "7151503                                            Starred         4670  \n",
      "4780270                                         BLUESWOMEN         1239  \n",
      "6887984                                           classics         1153  \n",
      "2161343                                  Psychedelic Salad         9628  \n"
     ]
    }
   ],
   "source": [
    "data['artistindex'] = data['artist_name'].astype('category').cat.codes\n",
    "print(len(data['artistindex'].unique()))\n",
    "print(data.head())"
   ]
  },
  {
   "cell_type": "markdown",
   "metadata": {},
   "source": [
    "Now I split my data into training and testing sets. "
   ]
  },
  {
   "cell_type": "code",
   "execution_count": 20,
   "metadata": {},
   "outputs": [],
   "source": [
    "train, test = train_test_split(data, random_state = 42, test_size = 0.2)"
   ]
  },
  {
   "cell_type": "markdown",
   "metadata": {},
   "source": [
    "After that, I'm creating a sparse user_id x artistindex matrix, where mat[i, j] = 1 if an user_id i has artist j."
   ]
  },
  {
   "cell_type": "code",
   "execution_count": 13,
   "metadata": {},
   "outputs": [],
   "source": [
    "train_matrix = sp.dok_matrix((train.shape[0],\n",
    "                              len(data['artistindex'].unique())), \n",
    "                              dtype = np.float32)\n",
    "for user_id, artistindex in zip(train['user_id'], train['artistindex']):\n",
    "    train_matrix[user_id, artistindex] = 1.0"
   ]
  },
  {
   "cell_type": "markdown",
   "metadata": {},
   "source": [
    "And then, I'm making an instance of the model."
   ]
  },
  {
   "cell_type": "code",
   "execution_count": 14,
   "metadata": {},
   "outputs": [],
   "source": [
    "def get_model(num_users, num_artists, latent_dim = 8, dense_layers = [64, 32, 16, 8], reg_layers = [0, 0, 0, 0], reg_gmf = 0):\n",
    "\n",
    "    user_input = Input(shape=(1,), dtype = 'int32', name = 'user_input')\n",
    "    artist_input = Input(shape=(1,), dtype = 'int32', name = 'artist_input')\n",
    "\n",
    "    gmf_user_embedding = Embedding(input_dim = num_users, \n",
    "                         output_dim = latent_dim,\n",
    "                         name = 'gmf_user_embedding',\n",
    "                         embeddings_initializer = 'RandomNormal',\n",
    "                         embeddings_regularizer = l2(reg_gmf), \n",
    "                         input_length = 1)\n",
    "\n",
    "    gmf_artist_embedding = Embedding(input_dim = num_artists, \n",
    "                         output_dim = latent_dim,\n",
    "                         name = 'gmf_artist_embedding',\n",
    "                         embeddings_initializer ='RandomNormal',\n",
    "                         embeddings_regularizer = l2(reg_gmf), \n",
    "                         input_length = 1)\n",
    "\n",
    "    mlp_user_embedding = Embedding(input_dim = num_users, \n",
    "                         output_dim = int(dense_layers[0]/2),\n",
    "                         name = 'mlp_user_embedding',\n",
    "                         embeddings_initializer = 'RandomNormal',\n",
    "                         embeddings_regularizer = l2(reg_layers[0]), \n",
    "                         input_length = 1)\n",
    "\n",
    "    mlp_artist_embedding = Embedding(input_dim = num_artists, \n",
    "                         output_dim = int(dense_layers[0]/2),\n",
    "                         name = 'mlp_artist_embedding',\n",
    "                         embeddings_initializer = 'RandomNormal',\n",
    "                         embeddings_regularizer = l2(reg_layers[0]), \n",
    "                         input_length = 1)\n",
    "\n",
    "    gmf_user_vector = Flatten()(gmf_user_embedding(user_input))\n",
    "    gmf_artist_vector = Flatten()(gmf_artist_embedding(artist_input))\n",
    "    gmf_vector = Multiply()([gmf_user_vector, gmf_artist_vector])\n",
    "\n",
    "    mlp_user_vector = Flatten()(mlp_user_embedding(user_input))\n",
    "    mlp_artist_vector = Flatten()(mlp_artist_embedding(artist_input))\n",
    "    mlp_vector = Concatenate()([mlp_user_vector, mlp_artist_vector])\n",
    "    \n",
    "    for i in range(1, len(dense_layers)):\n",
    "        layer = Dense(dense_layers[i],\n",
    "                      activity_regularizer = l2(reg_layers[i]),\n",
    "                      activation = 'relu',\n",
    "                      name = 'layer_%i' % i)\n",
    "        mlp_vector = layer(mlp_vector)\n",
    "\n",
    "    predict_layer = Concatenate()([gmf_vector, mlp_vector])\n",
    "\n",
    "    result = Dense(1, activation = 'sigmoid',\n",
    "                   kernel_initializer = 'lecun_uniform', \n",
    "                   name = 'result')\n",
    "\n",
    "    model = Model(inputs = [user_input, artist_input], \n",
    "                  outputs = result(predict_layer))\n",
    "\n",
    "    return model"
   ]
  },
  {
   "cell_type": "markdown",
   "metadata": {},
   "source": [
    "Then I'm going back to my training set. We only know which artists appear in each users' playlists, so there is a natural scarcity of negative feedback in playlist recommendation. To solve this problem, I generate user-artist pairs that are not valid."
   ]
  },
  {
   "cell_type": "code",
   "execution_count": 15,
   "metadata": {},
   "outputs": [],
   "source": [
    "def get_train_samples(train_matrix, negative_instances):\n",
    "    user_input, artist_input, labels = [], [], []\n",
    "    num_user, num_artist = train_matrix.shape\n",
    "    for (user, artist) in train_matrix.keys():\n",
    "        user_input.append(user)\n",
    "        artist_input.append(artist)\n",
    "        labels.append(1)\n",
    "        for i in range(negative_instances):\n",
    "            random_artist = np.random.randint(num_artist)\n",
    "            while (user, random_artist) in train_matrix.keys():\n",
    "                random_artist = np.random.randint(num_artist)\n",
    "            user_input.append(user)\n",
    "            artist_input.append(random_artist)\n",
    "            labels.append(0)\n",
    "    return user_input, artist_input, labels"
   ]
  },
  {
   "cell_type": "markdown",
   "metadata": {},
   "source": [
    "After that, I can finally make an instance of the model."
   ]
  },
  {
   "cell_type": "code",
   "execution_count": 16,
   "metadata": {},
   "outputs": [
    {
     "name": "stdout",
     "output_type": "stream",
     "text": [
      "Model: \"model\"\n",
      "__________________________________________________________________________________________________\n",
      " Layer (type)                   Output Shape         Param #     Connected to                     \n",
      "==================================================================================================\n",
      " user_input (InputLayer)        [(None, 1)]          0           []                               \n",
      "                                                                                                  \n",
      " artist_input (InputLayer)      [(None, 1)]          0           []                               \n",
      "                                                                                                  \n",
      " mlp_user_embedding (Embedding)  (None, 1, 32)       13634432    ['user_input[0][0]']             \n",
      "                                                                                                  \n",
      " mlp_artist_embedding (Embeddin  (None, 1, 32)       455616      ['artist_input[0][0]']           \n",
      " g)                                                                                               \n",
      "                                                                                                  \n",
      " flatten_2 (Flatten)            (None, 32)           0           ['mlp_user_embedding[0][0]']     \n",
      "                                                                                                  \n",
      " flatten_3 (Flatten)            (None, 32)           0           ['mlp_artist_embedding[0][0]']   \n",
      "                                                                                                  \n",
      " concatenate (Concatenate)      (None, 64)           0           ['flatten_2[0][0]',              \n",
      "                                                                  'flatten_3[0][0]']              \n",
      "                                                                                                  \n",
      " gmf_user_embedding (Embedding)  (None, 1, 8)        3408608     ['user_input[0][0]']             \n",
      "                                                                                                  \n",
      " gmf_artist_embedding (Embeddin  (None, 1, 8)        113904      ['artist_input[0][0]']           \n",
      " g)                                                                                               \n",
      "                                                                                                  \n",
      " layer_1 (Dense)                (None, 32)           2080        ['concatenate[0][0]']            \n",
      "                                                                                                  \n",
      " flatten (Flatten)              (None, 8)            0           ['gmf_user_embedding[0][0]']     \n",
      "                                                                                                  \n",
      " flatten_1 (Flatten)            (None, 8)            0           ['gmf_artist_embedding[0][0]']   \n",
      "                                                                                                  \n",
      " layer_2 (Dense)                (None, 16)           528         ['layer_1[0][0]']                \n",
      "                                                                                                  \n",
      " multiply (Multiply)            (None, 8)            0           ['flatten[0][0]',                \n",
      "                                                                  'flatten_1[0][0]']              \n",
      "                                                                                                  \n",
      " layer_3 (Dense)                (None, 8)            136         ['layer_2[0][0]']                \n",
      "                                                                                                  \n",
      " concatenate_1 (Concatenate)    (None, 16)           0           ['multiply[0][0]',               \n",
      "                                                                  'layer_3[0][0]']                \n",
      "                                                                                                  \n",
      " result (Dense)                 (None, 1)            17          ['concatenate_1[0][0]']          \n",
      "                                                                                                  \n",
      "==================================================================================================\n",
      "Total params: 17,615,321\n",
      "Trainable params: 17,615,321\n",
      "Non-trainable params: 0\n",
      "__________________________________________________________________________________________________\n",
      "None\n"
     ]
    }
   ],
   "source": [
    "loaded = True\n",
    "\n",
    "latent_dim = 8\n",
    "dense_layers = [64, 32, 16, 8]\n",
    "reg_layers = [0, 0, 0, 0]\n",
    "reg_gmf = 0\n",
    "negative_instances = 4\n",
    "\n",
    "num_users, num_artists = train_matrix.shape\n",
    "\n",
    "model = get_model(num_users, num_artists, latent_dim, dense_layers, reg_layers, reg_gmf)\n",
    "\n",
    "model.compile(optimizer = Adam(learning_rate = 0.001),\n",
    "              loss = 'binary_crossentropy',\n",
    "              metrics = ['accuracy'])\n",
    "\n",
    "print(model.summary())"
   ]
  },
  {
   "cell_type": "markdown",
   "metadata": {},
   "source": [
    "    TRAINING THE MODEL"
   ]
  },
  {
   "cell_type": "markdown",
   "metadata": {},
   "source": [
    "After I'd generated training instances, I trained my model for 10 epochs and I got an accuracy of 0.9556 with loss of 0.1149, using only 50% of the data."
   ]
  },
  {
   "cell_type": "code",
   "execution_count": 17,
   "metadata": {},
   "outputs": [
    {
     "name": "stdout",
     "output_type": "stream",
     "text": [
      "Epoch 1/10\n",
      "5674/5674 [==============================] - 931s 163ms/step - loss: 0.3873 - accuracy: 0.8414\n",
      "Epoch 2/10\n",
      "5674/5674 [==============================] - 915s 161ms/step - loss: 0.3502 - accuracy: 0.8541\n",
      "Epoch 3/10\n",
      "5674/5674 [==============================] - 982s 173ms/step - loss: 0.2955 - accuracy: 0.8768\n",
      "Epoch 4/10\n",
      "5674/5674 [==============================] - 948s 167ms/step - loss: 0.2566 - accuracy: 0.8928\n",
      "Epoch 5/10\n",
      "5674/5674 [==============================] - 936s 165ms/step - loss: 0.2247 - accuracy: 0.9069\n",
      "Epoch 6/10\n",
      "5674/5674 [==============================] - 942s 166ms/step - loss: 0.1968 - accuracy: 0.9194\n",
      "Epoch 7/10\n",
      "5674/5674 [==============================] - 869s 153ms/step - loss: 0.1720 - accuracy: 0.9306\n",
      "Epoch 8/10\n",
      "5674/5674 [==============================] - 931s 164ms/step - loss: 0.1503 - accuracy: 0.9403\n",
      "Epoch 9/10\n",
      "5674/5674 [==============================] - 1063s 187ms/step - loss: 0.1311 - accuracy: 0.9485\n",
      "Epoch 10/10\n",
      "5674/5674 [==============================] - 1047s 184ms/step - loss: 0.1149 - accuracy: 0.9556\n"
     ]
    }
   ],
   "source": [
    "user_input, artist_input, labels = get_train_samples(train_matrix, negative_instances)\n",
    "\n",
    "history = model.fit([np.array(user_input), np.array(artist_input)], np.array(labels),\n",
    "                    batch_size = 256, epochs = 10, verbose = 1, shuffle = True)"
   ]
  },
  {
   "cell_type": "code",
   "execution_count": 18,
   "metadata": {},
   "outputs": [],
   "source": [
    "model_file = 'recommendation_system.h5'\n",
    "model.save(model_file, overwrite = True)"
   ]
  },
  {
   "cell_type": "markdown",
   "metadata": {},
   "source": [
    "Now that I've trained and saved my model, I'm ready to recommend artists for my users."
   ]
  },
  {
   "cell_type": "code",
   "execution_count": 9,
   "metadata": {},
   "outputs": [],
   "source": [
    "model_path = 'recommendation_system.h5'\n",
    "model = load_model(model_path)"
   ]
  },
  {
   "cell_type": "code",
   "execution_count": 21,
   "metadata": {},
   "outputs": [
    {
     "name": "stdout",
     "output_type": "stream",
     "text": [
      "3329/3329 [==============================] - 16s 4ms/step\n"
     ]
    }
   ],
   "source": [
    "predictions = model.predict([test.user_id, test.artistindex])\n",
    "length = len(predictions)"
   ]
  },
  {
   "cell_type": "code",
   "execution_count": 25,
   "metadata": {},
   "outputs": [
    {
     "name": "stdout",
     "output_type": "stream",
     "text": [
      "       user_id                      artist_name  prediction\n",
      "22232     1462                      Against Me!    1.000000\n",
      "75561     1462                      Against Me!    1.000000\n",
      "94718     4835                     Alan Jackson    1.000000\n",
      "8564      1462                      Against Me!    1.000000\n",
      "48172     1462                      Against Me!    1.000000\n",
      "93379     5429                       Commodores    1.000000\n",
      "48157     1462                    Alkaline Trio    1.000000\n",
      "89087     1462                    Alkaline Trio    1.000000\n",
      "22596     5429                       Commodores    1.000000\n",
      "38183     7577                  Hillsong United    1.000000\n",
      "71360     8493                       Supertramp    1.000000\n",
      "19282    15906                     Andrew Bayer    1.000000\n",
      "41915     1154                   Da' T.R.U.T.H.    1.000000\n",
      "92674    10890                            Meiko    1.000000\n",
      "20135      682                    Alkaline Trio    0.999999\n",
      "45280     7683                   Alejandro Sanz    0.999999\n",
      "80463     5251                      Arcade Fire    0.999999\n",
      "35368    11664                     Comeback Kid    0.999999\n",
      "245       1557                     All Time Low    0.999999\n",
      "62338    11569                      Dani Martin    0.999999\n",
      "99887     2525             Ludwig van Beethoven    0.999999\n",
      "974       6291                      Arcade Fire    0.999999\n",
      "54007     3448                           Amaral    0.999999\n",
      "74238     8248                     Alan Jackson    0.999998\n",
      "59875     8248                     Alan Jackson    0.999998\n",
      "30297     8248                     Alan Jackson    0.999998\n",
      "1771     15730  Enrique Urquijo y Los problemas    0.999998\n",
      "9519      2411                  Backstreet Boys    0.999998\n",
      "22568     1663                A Day To Remember    0.999998\n",
      "78104     2188                           Amaral    0.999998\n"
     ]
    }
   ],
   "source": [
    "recommendations_df = pd.DataFrame(np.nan, index = range(length), \n",
    "                                  columns=['user_id', 'artist_name', 'prediction'])\n",
    "\n",
    "for i in range(0, length):\n",
    "    recommendations_df.loc[i] = (test.user_id.iloc[i], test.artist_name.iloc[i], predictions[i])\n",
    "\n",
    "recommendations_df = recommendations_df.sort_values(by = ['prediction'], ascending = False)\n",
    "\n",
    "recommendations_df = recommendations_df.astype({'user_id':'int'})\n",
    "\n",
    "print(recommendations_df.head(30))"
   ]
  }
 ],
 "metadata": {
  "kernelspec": {
   "display_name": "Python 3.9.8 64-bit",
   "language": "python",
   "name": "python3"
  },
  "language_info": {
   "codemirror_mode": {
    "name": "ipython",
    "version": 3
   },
   "file_extension": ".py",
   "mimetype": "text/x-python",
   "name": "python",
   "nbconvert_exporter": "python",
   "pygments_lexer": "ipython3",
   "version": "3.9.8"
  },
  "orig_nbformat": 4,
  "vscode": {
   "interpreter": {
    "hash": "7f2eb623dfa5f891bddea5d2ee46bf300657ae8da1fde1fde5dd8fafda1bf4bf"
   }
  }
 },
 "nbformat": 4,
 "nbformat_minor": 2
}
